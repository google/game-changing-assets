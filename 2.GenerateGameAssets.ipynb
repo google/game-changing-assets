{
  "cells": [
    {
      "cell_type": "code",
      "source": [
        "# Copyright 2024 Google LLC\n",
        "#\n",
        "# Licensed under the Apache License, Version 2.0 (the \"License\");\n",
        "# you may not use this file except in compliance with the License.\n",
        "# You may obtain a copy of the License at\n",
        "#\n",
        "#     https://www.apache.org/licenses/LICENSE-2.0\n",
        "#\n",
        "# Unless required by applicable law or agreed to in writing, software\n",
        "# distributed under the License is distributed on an \"AS IS\" BASIS,\n",
        "# WITHOUT WARRANTIES OR CONDITIONS OF ANY KIND, either express or implied.\n",
        "# See the License for the specific language governing permissions and\n",
        "# limitations under the License."
      ],
      "metadata": {
        "id": "NUnoVfuhzpfY"
      },
      "id": "NUnoVfuhzpfY",
      "execution_count": null,
      "outputs": []
    },
    {
      "cell_type": "markdown",
      "source": [
        "## Overview\n",
        "\n",
        "This notebook demonstrates how to call model endpoint on Vertex AI and generate game assest designs based on prompts. The images generated are uploaded to GCS bucket for further processing.\n",
        "\n",
        "### Objective\n",
        "\n",
        "- Run online predictions for text-to-image.\n",
        "\n",
        "### Costs\n",
        "\n",
        "This tutorial uses billable components of Google Cloud:\n",
        "\n",
        "* Vertex AI\n",
        "* Cloud Storage\n",
        "\n",
        "Learn about [Vertex AI pricing](https://cloud.google.com/vertex-ai/pricing) and [Cloud Storage pricing](https://cloud.google.com/storage/pricing), and use the [Pricing Calculator](https://cloud.google.com/products/calculator/) to generate a cost estimate based on your projected usage."
      ],
      "metadata": {
        "id": "Z2Ev1jmM0o1O"
      },
      "id": "Z2Ev1jmM0o1O"
    },
    {
      "cell_type": "markdown",
      "source": [
        "### 1. Initialize"
      ],
      "metadata": {
        "id": "1i3VTijFOqtc"
      },
      "id": "1i3VTijFOqtc"
    },
    {
      "cell_type": "code",
      "source": [
        "# Cloud project id.\n",
        "PROJECT_ID = \"\"  # @param {type:\"string\"}\n",
        "\n",
        "# The region you want to launch jobs in.\n",
        "REGION = \"\"  # @param {type:\"string\"}\n",
        "\n",
        "# The Cloud Storage bucket for storing experiments output.\n",
        "# Fill it without the 'gs://' prefix.\n",
        "GCS_BUCKET = \"\"  # @param {type:\"string\"}\n",
        "\n",
        "#bucket to store generated images\n",
        "GENERATED_IMAGES_BUCKET = \"\" # @param {type:\"string\"}\n",
        "\n",
        "# create a parameter called ENDPOINT_ID\n",
        "ENDPOINT_ID=\"\"  # @param {type:\"string\"}\n",
        "\n",
        "# The service account for deploying fine tuned model. The service account looks like:\n",
        "# '<account_name>@<project>.iam.gserviceaccount.com'\n",
        "SERVICE_ACCOUNT = \"\"  # @param {type:\"string\"}"
      ],
      "metadata": {
        "id": "_As9nYQCBxaQ",
        "cellView": "form"
      },
      "id": "_As9nYQCBxaQ",
      "execution_count": null,
      "outputs": []
    },
    {
      "cell_type": "markdown",
      "source": [
        "### 2. Define Helper Functions"
      ],
      "metadata": {
        "id": "hSD6oGifOxm-"
      },
      "id": "hSD6oGifOxm-"
    },
    {
      "cell_type": "code",
      "id": "sOlUiBUe8AbADlVSxh0EGaja",
      "metadata": {
        "tags": [],
        "id": "sOlUiBUe8AbADlVSxh0EGaja"
      },
      "source": [
        "from typing import Dict, List, Union\n",
        "from google.cloud import aiplatform\n",
        "from google.protobuf import json_format\n",
        "from google.protobuf.struct_pb2 import Value\n",
        "from PIL import Image\n",
        "from google.cloud import storage\n",
        "from io import BytesIO\n",
        "\n",
        "import base64\n",
        "import glob\n",
        "import os\n",
        "import datetime\n",
        "import time\n",
        "import uuid\n",
        "import matplotlib.pyplot as plt\n",
        "\n",
        "aiplatform.init(project=PROJECT_ID, location=REGION, staging_bucket=GCS_BUCKET)\n",
        "\n",
        "def generate_guid():\n",
        "    \"\"\"Generates a random UUID (GUID) string.\"\"\"\n",
        "    return str(uuid.uuid4())\n",
        "\n",
        "def base64_to_image(image_str):\n",
        "    \"\"\"Convert base64 encoded string to an image.\"\"\"\n",
        "    try:\n",
        "        image = Image.open(BytesIO(base64.b64decode(image_str, validate=False)))\n",
        "        return image\n",
        "    except Exception as e:\n",
        "        print(f\"Error decoding Base64 string: {e}\")\n",
        "        return None  # Or handle the error differently\n",
        "\n",
        "def image_grid(imgs, rows=2, cols=2):\n",
        "    w, h = imgs[0].size\n",
        "    grid = Image.new(\n",
        "        mode=\"RGB\", size=(cols * w + 10 * cols, rows * h), color=(255, 255, 255)\n",
        "    )\n",
        "    for i, img in enumerate(imgs):\n",
        "        grid.paste(img, box=(i % cols * w + 10 * i, i // cols * h))\n",
        "    return grid\n",
        "\n",
        "def save_pil_image_to_gcs(pil_image, image_format=\"JPEG\"):\n",
        "    \"\"\"Saves a PIL Image to Google Cloud Storage.\n",
        "\n",
        "    Args:\n",
        "        pil_image (PIL.Image): The PIL Image object to save.\n",
        "        bucket_name (str): Name of the GCS bucket.\n",
        "        destination_blob_name (str): Target filename in the bucket.\n",
        "        image_format (str, optional): Format to save the image in.\n",
        "            Defaults to \"JPEG\".  Supported formats depend on PIL.\n",
        "    \"\"\"\n",
        "\n",
        "    try:\n",
        "        storage_client = storage.Client()\n",
        "        my_guid = generate_guid()\n",
        "        bucket = storage_client.bucket(GENERATED_IMAGES_BUCKET)\n",
        "        filename = f\"generated_logo_{my_guid}.png\"\n",
        "        blob = bucket.blob(filename)\n",
        "\n",
        "        output_buffer = BytesIO()\n",
        "        pil_image.save(output_buffer, format=image_format)\n",
        "\n",
        "        blob.upload_from_string(\n",
        "            output_buffer.getvalue(), content_type=f\"image/{image_format.lower()}\"\n",
        "        )\n",
        "\n",
        "        print(f\"Image saved to gs://{GENERATED_IMAGES_BUCKET}/{filename}\")\n",
        "\n",
        "    except Exception as e:\n",
        "        print(f\"An error occurred during upload: {e}\")\n",
        "\n"
      ],
      "execution_count": null,
      "outputs": []
    },
    {
      "cell_type": "markdown",
      "source": [
        "### 3. Intialize Prompts"
      ],
      "metadata": {
        "id": "P9I5SQypO48K"
      },
      "id": "P9I5SQypO48K"
    },
    {
      "cell_type": "code",
      "source": [
        "# Add or update prompts as needed\n",
        "\n",
        "instances = [\n",
        "  {\n",
        "      \"prompt\": \"a cat standing with hands in its pocket in space with a a warrior helmet\",\n",
        "      \"height\": 1024,\n",
        "      \"width\": 1024,\n",
        "      \"guidance_scale\": 5,\n",
        "      \"num_inference_steps\": 25,\n",
        "      \"seed\": 366868260,\n",
        "      \"cfg_scale\": 7.5,\n",
        "      \"negative_prompt\": \"bad art, ugly, deformed, watermark, duplicated, bad spelling, No text, no clip art\",\n",
        "      \"sampler\": \"DPM++ 2M SDE Karras\",\n",
        "  },\n",
        "  {\n",
        "      \"prompt\": \"a cartoon dog standing posing in with a vintage warrior helmet, gold boots and a bow tie in a transparent background\",\n",
        "      \"height\": 1024,\n",
        "      \"width\": 1024,\n",
        "      \"guidance_scale\": 5,\n",
        "      \"num_inference_steps\": 25,\n",
        "      \"seed\": 366868260,\n",
        "      \"cfg_scale\": 7.5,\n",
        "      \"negative_prompt\": \"bad art, ugly, deformed, watermark, duplicated, bad spelling, No text, no clip art\",\n",
        "      \"sampler\": \"DPM++ 2M SDE Karras\",\n",
        "  }\n",
        "]\n"
      ],
      "metadata": {
        "id": "nOuCa_GgPEXp"
      },
      "id": "nOuCa_GgPEXp",
      "execution_count": null,
      "outputs": []
    },
    {
      "cell_type": "markdown",
      "source": [
        "### 4. Intialize endpoints and start predictions"
      ],
      "metadata": {
        "id": "4zLOVwYLPJE0"
      },
      "id": "4zLOVwYLPJE0"
    },
    {
      "cell_type": "code",
      "source": [
        "api_endpoint = \"us-central1-aiplatform.googleapis.com\"\n",
        "client_options = {\"api_endpoint\": api_endpoint}\n",
        "\n",
        "# Initialize client that will be used to create and send requests.\n",
        "# This client only needs to be created once, and can be reused for multiple requests.\n",
        "client = aiplatform.gapic.PredictionServiceClient(client_options=client_options)\n",
        "\n",
        "# Initiaize endpoint\n",
        "endpoint = client.endpoint_path(\n",
        "    project=PROJECT_ID, location=REGION, endpoint=ENDPOINT_ID\n",
        ")\n",
        "\n",
        "# Temporary array to storage images to print while executing\n",
        "copytoprint =[]\n",
        "\n",
        "for instance in instances:\n",
        "  response = client.predict(\n",
        "      endpoint=endpoint, instances=[instance]\n",
        "  )\n",
        "  print(\"Response\")\n",
        "  print(\" Deployed_model_id:\", response.deployed_model_id)\n",
        "  generatedimagepredictions = response.predictions\n",
        "  for image in generatedimagepredictions:\n",
        "    tempimg = base64_to_image(image)\n",
        "    save_pil_image_to_gcs(tempimg)\n",
        "    copytoprint.append(tempimg)\n",
        "\n",
        "# Display the images after storing them on GCS bucket\n",
        "image_grid(copytoprint)\n"
      ],
      "metadata": {
        "id": "RdzfNpKT6EbF"
      },
      "id": "RdzfNpKT6EbF",
      "execution_count": null,
      "outputs": []
    }
  ],
  "metadata": {
    "kernelspec": {
      "display_name": "Python 3",
      "language": "python",
      "name": "python3"
    },
    "language_info": {
      "codemirror_mode": {
        "name": "ipython",
        "version": 3
      },
      "file_extension": ".py",
      "mimetype": "text/x-python",
      "name": "python",
      "nbconvert_exporter": "python",
      "pygments_lexer": "ipython3",
      "version": "3.10.10"
    },
    "colab": {
      "provenance": []
    }
  },
  "nbformat": 4,
  "nbformat_minor": 5
}