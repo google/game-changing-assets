{
  "cells": [
    {
      "cell_type": "code",
      "source": [
        "# Copyright 2024 Google LLC\n",
        "#\n",
        "# Licensed under the Apache License, Version 2.0 (the \"License\");\n",
        "# you may not use this file except in compliance with the License.\n",
        "# You may obtain a copy of the License at\n",
        "#\n",
        "#     https://www.apache.org/licenses/LICENSE-2.0\n",
        "#\n",
        "# Unless required by applicable law or agreed to in writing, software\n",
        "# distributed under the License is distributed on an \"AS IS\" BASIS,\n",
        "# WITHOUT WARRANTIES OR CONDITIONS OF ANY KIND, either express or implied.\n",
        "# See the License for the specific language governing permissions and\n",
        "# limitations under the License."
      ],
      "metadata": {
        "id": "_As9nYQCBxaQ"
      },
      "id": "_As9nYQCBxaQ",
      "execution_count": null,
      "outputs": []
    },
    {
      "cell_type": "markdown",
      "source": [
        "## Overview\n",
        "\n",
        "This notebook demonstrates how to delete model endpoint and model on Vertex AI.\n",
        "\n",
        "### Objective\n",
        "\n",
        "- Clean up Google Cloud resources\n",
        "\n",
        "### Costs\n",
        "\n",
        "This tutorial uses billable components of Google Cloud:\n",
        "\n",
        "* Vertex AI\n",
        "* Cloud Storage\n",
        "\n",
        "Learn about [Vertex AI pricing](https://cloud.google.com/vertex-ai/pricing) and [Cloud Storage pricing](https://cloud.google.com/storage/pricing), and use the [Pricing Calculator](https://cloud.google.com/products/calculator/) to generate a cost estimate based on your projected usage."
      ],
      "metadata": {
        "id": "No_wcPTK1jyE"
      },
      "id": "No_wcPTK1jyE"
    },
    {
      "cell_type": "markdown",
      "source": [
        "### 1. Initialize"
      ],
      "metadata": {
        "id": "A4h7jvudOk-3"
      },
      "id": "A4h7jvudOk-3"
    },
    {
      "cell_type": "code",
      "source": [
        "# Cloud project id.\n",
        "PROJECT_ID = \"\"  # @param {type:\"string\"}\n",
        "\n",
        "# The region you want to launch jobs in.\n",
        "REGION = \"\"  # @param {type:\"string\"}\n",
        "\n",
        "# The Cloud Storage bucket for storing experiments output.\n",
        "# Fill it without the 'gs://' prefix.\n",
        "GCS_STAGING_BUCKET = \"\"  # @param {type:\"string\"}\n",
        "\n",
        "# create a parameter called MODEL_ID\n",
        "MODEL_ID = \"\"  # @param {type:\"string\"}\n",
        "\n",
        "# create a parameter called ENDPOINT_ID\n",
        "ENDPOINT_ID=\"\"  # @param {type:\"string\"}"
      ],
      "metadata": {
        "id": "gk2fLhNRxoOO",
        "cellView": "form"
      },
      "id": "gk2fLhNRxoOO",
      "execution_count": null,
      "outputs": []
    },
    {
      "cell_type": "markdown",
      "source": [
        "### 2. Define Delete Function"
      ],
      "metadata": {
        "id": "7tJoZhMjOd19"
      },
      "id": "7tJoZhMjOd19"
    },
    {
      "cell_type": "code",
      "source": [
        "from google.cloud import aiplatform\n",
        "from google.cloud import resourcemanager\n",
        "\n",
        "aiplatform.init(project=PROJECT_ID, location=REGION, staging_bucket=GCS_STAGING_BUCKET)\n",
        "\n",
        "def delete_model_and_endpoint(\n",
        "    project: str,\n",
        "    endpoint_id: str,\n",
        "    model_id: str,\n",
        "    location: str = REGION,\n",
        "    api_endpoint: str = \"us-central1-aiplatform.googleapis.com\",\n",
        "):\n",
        "    # The AI Platform services require regional API endpoints.\n",
        "    client_options = {\"api_endpoint\": api_endpoint}\n",
        "\n",
        "    # Initialize client that will be used to create and send requests.\n",
        "    # This client only needs to be created once, and can be reused for multiple requests.\n",
        "    client = aiplatform.gapic.PredictionServiceClient(client_options=client_options)\n",
        "\n",
        "    # The name of the model we want to use for inference.\n",
        "    model_full_id = client.model_path(\n",
        "        project=project, location=location, model=model_id\n",
        "    )\n",
        "\n",
        "    # The name of the endpoint we want to use for inference.\n",
        "    endpoint_full_id = client.endpoint_path(\n",
        "        project=project, location=location, endpoint=endpoint_id\n",
        "    )\n",
        "\n",
        "    print(model_full_id)\n",
        "    print(endpoint_full_id)\n",
        "\n",
        "    model = aiplatform.Model(model_full_id)\n",
        "    endpoint = aiplatform.Endpoint(endpoint_full_id)\n",
        "\n",
        "    try:\n",
        "      # Delete model and endpoint.\n",
        "      endpoint.delete(force=True)\n",
        "      print(\"Deleted endpoint.\")\n",
        "\n",
        "    except Exception as e:\n",
        "        print(e.response)\n",
        "\n",
        "    try:\n",
        "        # Delete model and endpoint.\n",
        "        model.delete()\n",
        "        print(\"Deleted model\")\n",
        "\n",
        "    except Exception as e:\n",
        "        print(e.response)"
      ],
      "metadata": {
        "id": "Qb-qU5hEObVY"
      },
      "id": "Qb-qU5hEObVY",
      "execution_count": null,
      "outputs": []
    },
    {
      "cell_type": "markdown",
      "source": [
        "### 3. Delete model and endpoints"
      ],
      "metadata": {
        "id": "byKn0VRmOSNm"
      },
      "id": "byKn0VRmOSNm"
    },
    {
      "cell_type": "code",
      "source": [
        "#call delete model and endpoint function\n",
        "delete_model_and_endpoint(PROJECT_ID, ENDPOINT_ID, MODEL_ID)"
      ],
      "metadata": {
        "id": "OowxuL0gi-UT"
      },
      "id": "OowxuL0gi-UT",
      "execution_count": null,
      "outputs": []
    }
  ],
  "metadata": {
    "kernelspec": {
      "display_name": "Python 3",
      "language": "python",
      "name": "python3"
    },
    "language_info": {
      "codemirror_mode": {
        "name": "ipython",
        "version": 3
      },
      "file_extension": ".py",
      "mimetype": "text/x-python",
      "name": "python",
      "nbconvert_exporter": "python",
      "pygments_lexer": "ipython3",
      "version": "3.10.10"
    },
    "colab": {
      "provenance": []
    }
  },
  "nbformat": 4,
  "nbformat_minor": 5
}